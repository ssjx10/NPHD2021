{
 "cells": [
  {
   "cell_type": "code",
   "execution_count": 1,
   "id": "c348eccc",
   "metadata": {
    "scrolled": false
   },
   "outputs": [
    {
     "name": "stdout",
     "output_type": "stream",
     "text": [
      "seed : 20\n",
      "batch_size 64\n",
      "TTA submit\n",
      "transform [Resize(always_apply=False, p=1, height=344, width=344, interpolation=1)]\n",
      "num_test : 32\n",
      "(2000, 2)\n",
      "2000\n",
      "[0 0 0 ... 1 1 0]\n",
      "make!!\n",
      "transform [Resize(always_apply=False, p=1, height=344, width=344, interpolation=1), VerticalFlip(always_apply=False, p=1)]\n",
      "num_test : 32\n",
      "(2000, 2)\n",
      "2000\n",
      "[0 0 0 ... 1 1 0]\n",
      "make!!\n",
      "transform [Resize(always_apply=False, p=1, height=344, width=344, interpolation=1), HorizontalFlip(always_apply=False, p=1)]\n",
      "num_test : 32\n",
      "(2000, 2)\n",
      "2000\n",
      "[0 0 0 ... 1 1 0]\n",
      "make!!\n",
      "done\n"
     ]
    }
   ],
   "source": [
    "!python tta_submit.py"
   ]
  },
  {
   "cell_type": "code",
   "execution_count": 2,
   "id": "6d381423",
   "metadata": {},
   "outputs": [],
   "source": [
    "import pandas as pd\n",
    "import numpy as np\n",
    "\n",
    "final = pd.read_csv('result/m1oVH_m2oH_tta_image_size_320_cos_test.csv', header=None) # m1OVH_m2OH, m1 : full\n",
    "m1oVH = pd.read_csv('result/m1oVH_tta_image_size_320_cos_full_test.csv', header=None) # m1OVH\n",
    "prev = pd.read_csv('result/oVH_tta_image_size_320_cos/14test.csv', header=None) # 이전 제출\n",
    "prev_real = pd.read_csv('result/m1oVH_tta_image_size_320_cos_test.csv', header=None) # 이전 제출 real\n",
    "\n",
    "final = np.asarray(final.loc[0])\n",
    "m1oVH = np.asarray(m1oVH.loc[0])\n",
    "prev = np.asarray(prev.loc[0])\n",
    "prev_real = np.asarray(prev_real.loc[0])"
   ]
  },
  {
   "cell_type": "code",
   "execution_count": 4,
   "id": "17ca61d7",
   "metadata": {},
   "outputs": [
    {
     "data": {
      "text/plain": [
       "(11, 22, 57)"
      ]
     },
     "execution_count": 4,
     "metadata": {},
     "output_type": "execute_result"
    }
   ],
   "source": [
    "np.sum(final != m1oVH), np.sum(final != prev_real), np.sum(final != prev)"
   ]
  }
 ],
 "metadata": {
  "kernelspec": {
   "display_name": "Environment (conda_pytorch_p37)",
   "language": "python",
   "name": "conda_pytorch_p37"
  },
  "language_info": {
   "codemirror_mode": {
    "name": "ipython",
    "version": 3
   },
   "file_extension": ".py",
   "mimetype": "text/x-python",
   "name": "python",
   "nbconvert_exporter": "python",
   "pygments_lexer": "ipython3",
   "version": "3.7.10"
  }
 },
 "nbformat": 4,
 "nbformat_minor": 5
}
